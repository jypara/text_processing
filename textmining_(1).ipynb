{
  "nbformat": 4,
  "nbformat_minor": 0,
  "metadata": {
    "colab": {
      "name": "textmining (1).ipynb",
      "provenance": [],
      "include_colab_link": true
    },
    "kernelspec": {
      "name": "python3",
      "display_name": "Python 3"
    }
  },
  "cells": [
    {
      "cell_type": "markdown",
      "metadata": {
        "id": "view-in-github",
        "colab_type": "text"
      },
      "source": [
        "<a href=\"https://colab.research.google.com/github/jypara/text_processing/blob/main/textmining_(1).ipynb\" target=\"_parent\"><img src=\"https://colab.research.google.com/assets/colab-badge.svg\" alt=\"Open In Colab\"/></a>"
      ]
    },
    {
      "cell_type": "code",
      "metadata": {
        "colab": {
          "base_uri": "https://localhost:8080/"
        },
        "id": "cJg1whIaPSob",
        "outputId": "1424be0a-1d3c-4fbb-d87b-bd7437d0d50d"
      },
      "source": [
        "!pip install nltk"
      ],
      "execution_count": null,
      "outputs": [
        {
          "output_type": "stream",
          "text": [
            "Requirement already satisfied: nltk in /usr/local/lib/python3.6/dist-packages (3.2.5)\n",
            "Requirement already satisfied: six in /usr/local/lib/python3.6/dist-packages (from nltk) (1.15.0)\n"
          ],
          "name": "stdout"
        }
      ]
    },
    {
      "cell_type": "code",
      "metadata": {
        "colab": {
          "base_uri": "https://localhost:8080/"
        },
        "id": "3Sr66m6YPaNU",
        "outputId": "ef5f7bc3-dd8d-4342-dbea-d356b1e5623a"
      },
      "source": [
        "#Loading NLTK\r\n",
        "import nltk\r\n",
        "nltk.download('punkt')\r\n",
        "nltk.download('stopwords')\r\n",
        "nltk.download('wordnet')\r\n",
        "nltk.download('averaged_perceptron_tagger')"
      ],
      "execution_count": 129,
      "outputs": [
        {
          "output_type": "stream",
          "text": [
            "[nltk_data] Downloading package punkt to /root/nltk_data...\n",
            "[nltk_data]   Package punkt is already up-to-date!\n",
            "[nltk_data] Downloading package stopwords to /root/nltk_data...\n",
            "[nltk_data]   Package stopwords is already up-to-date!\n",
            "[nltk_data] Downloading package wordnet to /root/nltk_data...\n",
            "[nltk_data]   Package wordnet is already up-to-date!\n",
            "[nltk_data] Downloading package averaged_perceptron_tagger to\n",
            "[nltk_data]     /root/nltk_data...\n",
            "[nltk_data]   Package averaged_perceptron_tagger is already up-to-\n",
            "[nltk_data]       date!\n"
          ],
          "name": "stdout"
        },
        {
          "output_type": "execute_result",
          "data": {
            "text/plain": [
              "True"
            ]
          },
          "metadata": {
            "tags": []
          },
          "execution_count": 129
        }
      ]
    },
    {
      "cell_type": "code",
      "metadata": {
        "colab": {
          "base_uri": "https://localhost:8080/",
          "height": 374
        },
        "id": "kEf90ah1TV0A",
        "outputId": "fe3cf14a-02ff-4ac3-b863-a6c854b26db6"
      },
      "source": [
        "from google.colab import drive\r\n",
        "drive.mount('/content/drive')\r\n",
        "path = \"/content/drive/MyDrive/Colab Notebooks/amazon_cells_labelled.txt\"\r\n",
        "\r\n",
        "# Import pandas\r\n",
        "import pandas as pd\r\n",
        "\r\n",
        "data=pd.read_csv(path, header=None, names=[\"Phrase\", \"Sentiment\"], sep=\"\\t\")\r\n",
        "\r\n",
        "from nltk.tokenize import sent_tokenize\r\n",
        "text=\"\"\"Lucas goes to school every day of the week. He has many subjects to go to each school day: English, art, science, mathematics, gym, and history. His mother packs a big backpack full of books and lunch for Lucas.\r\n",
        "\r\n",
        "His first class is English, and he likes that teacher very much. His English teacher says that he is a good pupil, which Lucas knows means that she thinks he is a good student.\r\n",
        "\r\n",
        "His next class is art. He draws on paper with crayons and pencils and sometimes uses a ruler. Lucas likes art. It is his favorite class.\r\n",
        "\r\n",
        "His third class is science. This class is very hard for Lucas to figure out, but he gets to work with his classmates a lot, which he likes to do. His friend, Kyle, works with Lucas in science class, and they have fun.\"\"\"\r\n",
        "\r\n",
        "tokenized_text=sent_tokenize(data['Phrase'])\r\n",
        "print(tokenized_text)\r\n"
      ],
      "execution_count": 130,
      "outputs": [
        {
          "output_type": "stream",
          "text": [
            "Drive already mounted at /content/drive; to attempt to forcibly remount, call drive.mount(\"/content/drive\", force_remount=True).\n"
          ],
          "name": "stdout"
        },
        {
          "output_type": "error",
          "ename": "TypeError",
          "evalue": "ignored",
          "traceback": [
            "\u001b[0;31m---------------------------------------------------------------------------\u001b[0m",
            "\u001b[0;31mTypeError\u001b[0m                                 Traceback (most recent call last)",
            "\u001b[0;32m<ipython-input-130-019eb20b671a>\u001b[0m in \u001b[0;36m<module>\u001b[0;34m()\u001b[0m\n\u001b[1;32m     17\u001b[0m His third class is science. This class is very hard for Lucas to figure out, but he gets to work with his classmates a lot, which he likes to do. His friend, Kyle, works with Lucas in science class, and they have fun.\"\"\"\n\u001b[1;32m     18\u001b[0m \u001b[0;34m\u001b[0m\u001b[0m\n\u001b[0;32m---> 19\u001b[0;31m \u001b[0mtokenized_text\u001b[0m\u001b[0;34m=\u001b[0m\u001b[0msent_tokenize\u001b[0m\u001b[0;34m(\u001b[0m\u001b[0mdata\u001b[0m\u001b[0;34m[\u001b[0m\u001b[0;34m'Phrase'\u001b[0m\u001b[0;34m]\u001b[0m\u001b[0;34m)\u001b[0m\u001b[0;34m\u001b[0m\u001b[0;34m\u001b[0m\u001b[0m\n\u001b[0m\u001b[1;32m     20\u001b[0m \u001b[0mprint\u001b[0m\u001b[0;34m(\u001b[0m\u001b[0mtokenized_text\u001b[0m\u001b[0;34m)\u001b[0m\u001b[0;34m\u001b[0m\u001b[0;34m\u001b[0m\u001b[0m\n",
            "\u001b[0;32m/usr/local/lib/python3.6/dist-packages/nltk/tokenize/__init__.py\u001b[0m in \u001b[0;36msent_tokenize\u001b[0;34m(text, language)\u001b[0m\n\u001b[1;32m     93\u001b[0m     \"\"\"\n\u001b[1;32m     94\u001b[0m     \u001b[0mtokenizer\u001b[0m \u001b[0;34m=\u001b[0m \u001b[0mload\u001b[0m\u001b[0;34m(\u001b[0m\u001b[0;34m'tokenizers/punkt/{0}.pickle'\u001b[0m\u001b[0;34m.\u001b[0m\u001b[0mformat\u001b[0m\u001b[0;34m(\u001b[0m\u001b[0mlanguage\u001b[0m\u001b[0;34m)\u001b[0m\u001b[0;34m)\u001b[0m\u001b[0;34m\u001b[0m\u001b[0;34m\u001b[0m\u001b[0m\n\u001b[0;32m---> 95\u001b[0;31m     \u001b[0;32mreturn\u001b[0m \u001b[0mtokenizer\u001b[0m\u001b[0;34m.\u001b[0m\u001b[0mtokenize\u001b[0m\u001b[0;34m(\u001b[0m\u001b[0mtext\u001b[0m\u001b[0;34m)\u001b[0m\u001b[0;34m\u001b[0m\u001b[0;34m\u001b[0m\u001b[0m\n\u001b[0m\u001b[1;32m     96\u001b[0m \u001b[0;34m\u001b[0m\u001b[0m\n\u001b[1;32m     97\u001b[0m \u001b[0;31m# Standard word tokenizer.\u001b[0m\u001b[0;34m\u001b[0m\u001b[0;34m\u001b[0m\u001b[0;34m\u001b[0m\u001b[0m\n",
            "\u001b[0;32m/usr/local/lib/python3.6/dist-packages/nltk/tokenize/punkt.py\u001b[0m in \u001b[0;36mtokenize\u001b[0;34m(self, text, realign_boundaries)\u001b[0m\n\u001b[1;32m   1235\u001b[0m         \u001b[0mGiven\u001b[0m \u001b[0ma\u001b[0m \u001b[0mtext\u001b[0m\u001b[0;34m,\u001b[0m \u001b[0mreturns\u001b[0m \u001b[0ma\u001b[0m \u001b[0mlist\u001b[0m \u001b[0mof\u001b[0m \u001b[0mthe\u001b[0m \u001b[0msentences\u001b[0m \u001b[0;32min\u001b[0m \u001b[0mthat\u001b[0m \u001b[0mtext\u001b[0m\u001b[0;34m.\u001b[0m\u001b[0;34m\u001b[0m\u001b[0;34m\u001b[0m\u001b[0m\n\u001b[1;32m   1236\u001b[0m         \"\"\"\n\u001b[0;32m-> 1237\u001b[0;31m         \u001b[0;32mreturn\u001b[0m \u001b[0mlist\u001b[0m\u001b[0;34m(\u001b[0m\u001b[0mself\u001b[0m\u001b[0;34m.\u001b[0m\u001b[0msentences_from_text\u001b[0m\u001b[0;34m(\u001b[0m\u001b[0mtext\u001b[0m\u001b[0;34m,\u001b[0m \u001b[0mrealign_boundaries\u001b[0m\u001b[0;34m)\u001b[0m\u001b[0;34m)\u001b[0m\u001b[0;34m\u001b[0m\u001b[0;34m\u001b[0m\u001b[0m\n\u001b[0m\u001b[1;32m   1238\u001b[0m \u001b[0;34m\u001b[0m\u001b[0m\n\u001b[1;32m   1239\u001b[0m     \u001b[0;32mdef\u001b[0m \u001b[0mdebug_decisions\u001b[0m\u001b[0;34m(\u001b[0m\u001b[0mself\u001b[0m\u001b[0;34m,\u001b[0m \u001b[0mtext\u001b[0m\u001b[0;34m)\u001b[0m\u001b[0;34m:\u001b[0m\u001b[0;34m\u001b[0m\u001b[0;34m\u001b[0m\u001b[0m\n",
            "\u001b[0;32m/usr/local/lib/python3.6/dist-packages/nltk/tokenize/punkt.py\u001b[0m in \u001b[0;36msentences_from_text\u001b[0;34m(self, text, realign_boundaries)\u001b[0m\n\u001b[1;32m   1283\u001b[0m         \u001b[0mfollows\u001b[0m \u001b[0mthe\u001b[0m \u001b[0mperiod\u001b[0m\u001b[0;34m.\u001b[0m\u001b[0;34m\u001b[0m\u001b[0;34m\u001b[0m\u001b[0m\n\u001b[1;32m   1284\u001b[0m         \"\"\"\n\u001b[0;32m-> 1285\u001b[0;31m         \u001b[0;32mreturn\u001b[0m \u001b[0;34m[\u001b[0m\u001b[0mtext\u001b[0m\u001b[0;34m[\u001b[0m\u001b[0ms\u001b[0m\u001b[0;34m:\u001b[0m\u001b[0me\u001b[0m\u001b[0;34m]\u001b[0m \u001b[0;32mfor\u001b[0m \u001b[0ms\u001b[0m\u001b[0;34m,\u001b[0m \u001b[0me\u001b[0m \u001b[0;32min\u001b[0m \u001b[0mself\u001b[0m\u001b[0;34m.\u001b[0m\u001b[0mspan_tokenize\u001b[0m\u001b[0;34m(\u001b[0m\u001b[0mtext\u001b[0m\u001b[0;34m,\u001b[0m \u001b[0mrealign_boundaries\u001b[0m\u001b[0;34m)\u001b[0m\u001b[0;34m]\u001b[0m\u001b[0;34m\u001b[0m\u001b[0;34m\u001b[0m\u001b[0m\n\u001b[0m\u001b[1;32m   1286\u001b[0m \u001b[0;34m\u001b[0m\u001b[0m\n\u001b[1;32m   1287\u001b[0m     \u001b[0;32mdef\u001b[0m \u001b[0m_slices_from_text\u001b[0m\u001b[0;34m(\u001b[0m\u001b[0mself\u001b[0m\u001b[0;34m,\u001b[0m \u001b[0mtext\u001b[0m\u001b[0;34m)\u001b[0m\u001b[0;34m:\u001b[0m\u001b[0;34m\u001b[0m\u001b[0;34m\u001b[0m\u001b[0m\n",
            "\u001b[0;32m/usr/local/lib/python3.6/dist-packages/nltk/tokenize/punkt.py\u001b[0m in \u001b[0;36mspan_tokenize\u001b[0;34m(self, text, realign_boundaries)\u001b[0m\n\u001b[1;32m   1274\u001b[0m         \u001b[0;32mif\u001b[0m \u001b[0mrealign_boundaries\u001b[0m\u001b[0;34m:\u001b[0m\u001b[0;34m\u001b[0m\u001b[0;34m\u001b[0m\u001b[0m\n\u001b[1;32m   1275\u001b[0m             \u001b[0mslices\u001b[0m \u001b[0;34m=\u001b[0m \u001b[0mself\u001b[0m\u001b[0;34m.\u001b[0m\u001b[0m_realign_boundaries\u001b[0m\u001b[0;34m(\u001b[0m\u001b[0mtext\u001b[0m\u001b[0;34m,\u001b[0m \u001b[0mslices\u001b[0m\u001b[0;34m)\u001b[0m\u001b[0;34m\u001b[0m\u001b[0;34m\u001b[0m\u001b[0m\n\u001b[0;32m-> 1276\u001b[0;31m         \u001b[0;32mreturn\u001b[0m \u001b[0;34m[\u001b[0m\u001b[0;34m(\u001b[0m\u001b[0msl\u001b[0m\u001b[0;34m.\u001b[0m\u001b[0mstart\u001b[0m\u001b[0;34m,\u001b[0m \u001b[0msl\u001b[0m\u001b[0;34m.\u001b[0m\u001b[0mstop\u001b[0m\u001b[0;34m)\u001b[0m \u001b[0;32mfor\u001b[0m \u001b[0msl\u001b[0m \u001b[0;32min\u001b[0m \u001b[0mslices\u001b[0m\u001b[0;34m]\u001b[0m\u001b[0;34m\u001b[0m\u001b[0;34m\u001b[0m\u001b[0m\n\u001b[0m\u001b[1;32m   1277\u001b[0m \u001b[0;34m\u001b[0m\u001b[0m\n\u001b[1;32m   1278\u001b[0m     \u001b[0;32mdef\u001b[0m \u001b[0msentences_from_text\u001b[0m\u001b[0;34m(\u001b[0m\u001b[0mself\u001b[0m\u001b[0;34m,\u001b[0m \u001b[0mtext\u001b[0m\u001b[0;34m,\u001b[0m \u001b[0mrealign_boundaries\u001b[0m\u001b[0;34m=\u001b[0m\u001b[0;32mTrue\u001b[0m\u001b[0;34m)\u001b[0m\u001b[0;34m:\u001b[0m\u001b[0;34m\u001b[0m\u001b[0;34m\u001b[0m\u001b[0m\n",
            "\u001b[0;32m/usr/local/lib/python3.6/dist-packages/nltk/tokenize/punkt.py\u001b[0m in \u001b[0;36m<listcomp>\u001b[0;34m(.0)\u001b[0m\n\u001b[1;32m   1274\u001b[0m         \u001b[0;32mif\u001b[0m \u001b[0mrealign_boundaries\u001b[0m\u001b[0;34m:\u001b[0m\u001b[0;34m\u001b[0m\u001b[0;34m\u001b[0m\u001b[0m\n\u001b[1;32m   1275\u001b[0m             \u001b[0mslices\u001b[0m \u001b[0;34m=\u001b[0m \u001b[0mself\u001b[0m\u001b[0;34m.\u001b[0m\u001b[0m_realign_boundaries\u001b[0m\u001b[0;34m(\u001b[0m\u001b[0mtext\u001b[0m\u001b[0;34m,\u001b[0m \u001b[0mslices\u001b[0m\u001b[0;34m)\u001b[0m\u001b[0;34m\u001b[0m\u001b[0;34m\u001b[0m\u001b[0m\n\u001b[0;32m-> 1276\u001b[0;31m         \u001b[0;32mreturn\u001b[0m \u001b[0;34m[\u001b[0m\u001b[0;34m(\u001b[0m\u001b[0msl\u001b[0m\u001b[0;34m.\u001b[0m\u001b[0mstart\u001b[0m\u001b[0;34m,\u001b[0m \u001b[0msl\u001b[0m\u001b[0;34m.\u001b[0m\u001b[0mstop\u001b[0m\u001b[0;34m)\u001b[0m \u001b[0;32mfor\u001b[0m \u001b[0msl\u001b[0m \u001b[0;32min\u001b[0m \u001b[0mslices\u001b[0m\u001b[0;34m]\u001b[0m\u001b[0;34m\u001b[0m\u001b[0;34m\u001b[0m\u001b[0m\n\u001b[0m\u001b[1;32m   1277\u001b[0m \u001b[0;34m\u001b[0m\u001b[0m\n\u001b[1;32m   1278\u001b[0m     \u001b[0;32mdef\u001b[0m \u001b[0msentences_from_text\u001b[0m\u001b[0;34m(\u001b[0m\u001b[0mself\u001b[0m\u001b[0;34m,\u001b[0m \u001b[0mtext\u001b[0m\u001b[0;34m,\u001b[0m \u001b[0mrealign_boundaries\u001b[0m\u001b[0;34m=\u001b[0m\u001b[0;32mTrue\u001b[0m\u001b[0;34m)\u001b[0m\u001b[0;34m:\u001b[0m\u001b[0;34m\u001b[0m\u001b[0;34m\u001b[0m\u001b[0m\n",
            "\u001b[0;32m/usr/local/lib/python3.6/dist-packages/nltk/tokenize/punkt.py\u001b[0m in \u001b[0;36m_realign_boundaries\u001b[0;34m(self, text, slices)\u001b[0m\n\u001b[1;32m   1314\u001b[0m         \"\"\"\n\u001b[1;32m   1315\u001b[0m         \u001b[0mrealign\u001b[0m \u001b[0;34m=\u001b[0m \u001b[0;36m0\u001b[0m\u001b[0;34m\u001b[0m\u001b[0;34m\u001b[0m\u001b[0m\n\u001b[0;32m-> 1316\u001b[0;31m         \u001b[0;32mfor\u001b[0m \u001b[0msl1\u001b[0m\u001b[0;34m,\u001b[0m \u001b[0msl2\u001b[0m \u001b[0;32min\u001b[0m \u001b[0m_pair_iter\u001b[0m\u001b[0;34m(\u001b[0m\u001b[0mslices\u001b[0m\u001b[0;34m)\u001b[0m\u001b[0;34m:\u001b[0m\u001b[0;34m\u001b[0m\u001b[0;34m\u001b[0m\u001b[0m\n\u001b[0m\u001b[1;32m   1317\u001b[0m             \u001b[0msl1\u001b[0m \u001b[0;34m=\u001b[0m \u001b[0mslice\u001b[0m\u001b[0;34m(\u001b[0m\u001b[0msl1\u001b[0m\u001b[0;34m.\u001b[0m\u001b[0mstart\u001b[0m \u001b[0;34m+\u001b[0m \u001b[0mrealign\u001b[0m\u001b[0;34m,\u001b[0m \u001b[0msl1\u001b[0m\u001b[0;34m.\u001b[0m\u001b[0mstop\u001b[0m\u001b[0;34m)\u001b[0m\u001b[0;34m\u001b[0m\u001b[0;34m\u001b[0m\u001b[0m\n\u001b[1;32m   1318\u001b[0m             \u001b[0;32mif\u001b[0m \u001b[0;32mnot\u001b[0m \u001b[0msl2\u001b[0m\u001b[0;34m:\u001b[0m\u001b[0;34m\u001b[0m\u001b[0;34m\u001b[0m\u001b[0m\n",
            "\u001b[0;32m/usr/local/lib/python3.6/dist-packages/nltk/tokenize/punkt.py\u001b[0m in \u001b[0;36m_pair_iter\u001b[0;34m(it)\u001b[0m\n\u001b[1;32m    310\u001b[0m     \"\"\"\n\u001b[1;32m    311\u001b[0m     \u001b[0mit\u001b[0m \u001b[0;34m=\u001b[0m \u001b[0miter\u001b[0m\u001b[0;34m(\u001b[0m\u001b[0mit\u001b[0m\u001b[0;34m)\u001b[0m\u001b[0;34m\u001b[0m\u001b[0;34m\u001b[0m\u001b[0m\n\u001b[0;32m--> 312\u001b[0;31m     \u001b[0mprev\u001b[0m \u001b[0;34m=\u001b[0m \u001b[0mnext\u001b[0m\u001b[0;34m(\u001b[0m\u001b[0mit\u001b[0m\u001b[0;34m)\u001b[0m\u001b[0;34m\u001b[0m\u001b[0;34m\u001b[0m\u001b[0m\n\u001b[0m\u001b[1;32m    313\u001b[0m     \u001b[0;32mfor\u001b[0m \u001b[0mel\u001b[0m \u001b[0;32min\u001b[0m \u001b[0mit\u001b[0m\u001b[0;34m:\u001b[0m\u001b[0;34m\u001b[0m\u001b[0;34m\u001b[0m\u001b[0m\n\u001b[1;32m    314\u001b[0m         \u001b[0;32myield\u001b[0m \u001b[0;34m(\u001b[0m\u001b[0mprev\u001b[0m\u001b[0;34m,\u001b[0m \u001b[0mel\u001b[0m\u001b[0;34m)\u001b[0m\u001b[0;34m\u001b[0m\u001b[0;34m\u001b[0m\u001b[0m\n",
            "\u001b[0;32m/usr/local/lib/python3.6/dist-packages/nltk/tokenize/punkt.py\u001b[0m in \u001b[0;36m_slices_from_text\u001b[0;34m(self, text)\u001b[0m\n\u001b[1;32m   1287\u001b[0m     \u001b[0;32mdef\u001b[0m \u001b[0m_slices_from_text\u001b[0m\u001b[0;34m(\u001b[0m\u001b[0mself\u001b[0m\u001b[0;34m,\u001b[0m \u001b[0mtext\u001b[0m\u001b[0;34m)\u001b[0m\u001b[0;34m:\u001b[0m\u001b[0;34m\u001b[0m\u001b[0;34m\u001b[0m\u001b[0m\n\u001b[1;32m   1288\u001b[0m         \u001b[0mlast_break\u001b[0m \u001b[0;34m=\u001b[0m \u001b[0;36m0\u001b[0m\u001b[0;34m\u001b[0m\u001b[0;34m\u001b[0m\u001b[0m\n\u001b[0;32m-> 1289\u001b[0;31m         \u001b[0;32mfor\u001b[0m \u001b[0mmatch\u001b[0m \u001b[0;32min\u001b[0m \u001b[0mself\u001b[0m\u001b[0;34m.\u001b[0m\u001b[0m_lang_vars\u001b[0m\u001b[0;34m.\u001b[0m\u001b[0mperiod_context_re\u001b[0m\u001b[0;34m(\u001b[0m\u001b[0;34m)\u001b[0m\u001b[0;34m.\u001b[0m\u001b[0mfinditer\u001b[0m\u001b[0;34m(\u001b[0m\u001b[0mtext\u001b[0m\u001b[0;34m)\u001b[0m\u001b[0;34m:\u001b[0m\u001b[0;34m\u001b[0m\u001b[0;34m\u001b[0m\u001b[0m\n\u001b[0m\u001b[1;32m   1290\u001b[0m             \u001b[0mcontext\u001b[0m \u001b[0;34m=\u001b[0m \u001b[0mmatch\u001b[0m\u001b[0;34m.\u001b[0m\u001b[0mgroup\u001b[0m\u001b[0;34m(\u001b[0m\u001b[0;34m)\u001b[0m \u001b[0;34m+\u001b[0m \u001b[0mmatch\u001b[0m\u001b[0;34m.\u001b[0m\u001b[0mgroup\u001b[0m\u001b[0;34m(\u001b[0m\u001b[0;34m'after_tok'\u001b[0m\u001b[0;34m)\u001b[0m\u001b[0;34m\u001b[0m\u001b[0;34m\u001b[0m\u001b[0m\n\u001b[1;32m   1291\u001b[0m             \u001b[0;32mif\u001b[0m \u001b[0mself\u001b[0m\u001b[0;34m.\u001b[0m\u001b[0mtext_contains_sentbreak\u001b[0m\u001b[0;34m(\u001b[0m\u001b[0mcontext\u001b[0m\u001b[0;34m)\u001b[0m\u001b[0;34m:\u001b[0m\u001b[0;34m\u001b[0m\u001b[0;34m\u001b[0m\u001b[0m\n",
            "\u001b[0;31mTypeError\u001b[0m: expected string or bytes-like object"
          ]
        }
      ]
    },
    {
      "cell_type": "code",
      "metadata": {
        "colab": {
          "base_uri": "https://localhost:8080/"
        },
        "id": "5TRYH1vJTgPT",
        "outputId": "8e85bf9f-9018-452c-aea3-7a478752e9a7"
      },
      "source": [
        "from nltk.tokenize import word_tokenize\r\n",
        "tokenized_word=word_tokenize(text)\r\n",
        "print(tokenized_word)"
      ],
      "execution_count": 3,
      "outputs": [
        {
          "output_type": "stream",
          "text": [
            "['Lucas', 'goes', 'to', 'school', 'every', 'day', 'of', 'the', 'week', '.', 'He', 'has', 'many', 'subjects', 'to', 'go', 'to', 'each', 'school', 'day', ':', 'English', ',', 'art', ',', 'science', ',', 'mathematics', ',', 'gym', ',', 'and', 'history', '.', 'His', 'mother', 'packs', 'a', 'big', 'backpack', 'full', 'of', 'books', 'and', 'lunch', 'for', 'Lucas', '.', 'His', 'first', 'class', 'is', 'English', ',', 'and', 'he', 'likes', 'that', 'teacher', 'very', 'much', '.', 'His', 'English', 'teacher', 'says', 'that', 'he', 'is', 'a', 'good', 'pupil', ',', 'which', 'Lucas', 'knows', 'means', 'that', 'she', 'thinks', 'he', 'is', 'a', 'good', 'student', '.', 'His', 'next', 'class', 'is', 'art', '.', 'He', 'draws', 'on', 'paper', 'with', 'crayons', 'and', 'pencils', 'and', 'sometimes', 'uses', 'a', 'ruler', '.', 'Lucas', 'likes', 'art', '.', 'It', 'is', 'his', 'favorite', 'class', '.', 'His', 'third', 'class', 'is', 'science', '.', 'This', 'class', 'is', 'very', 'hard', 'for', 'Lucas', 'to', 'figure', 'out', ',', 'but', 'he', 'gets', 'to', 'work', 'with', 'his', 'classmates', 'a', 'lot', ',', 'which', 'he', 'likes', 'to', 'do', '.', 'His', 'friend', ',', 'Kyle', ',', 'works', 'with', 'Lucas', 'in', 'science', 'class', ',', 'and', 'they', 'have', 'fun', '.']\n"
          ],
          "name": "stdout"
        }
      ]
    },
    {
      "cell_type": "code",
      "metadata": {
        "colab": {
          "base_uri": "https://localhost:8080/"
        },
        "id": "D4sqNyAvTlxD",
        "outputId": "e0de8507-3c93-4665-d9f4-5254d5bbfb3d"
      },
      "source": [
        "from nltk.probability import FreqDist\r\n",
        "fdist = FreqDist(tokenized_word)\r\n",
        "print(fdist)"
      ],
      "execution_count": 4,
      "outputs": [
        {
          "output_type": "stream",
          "text": [
            "<FreqDist with 84 samples and 167 outcomes>\n"
          ],
          "name": "stdout"
        }
      ]
    },
    {
      "cell_type": "code",
      "metadata": {
        "colab": {
          "base_uri": "https://localhost:8080/"
        },
        "id": "4J1Z7bq0Tsnb",
        "outputId": "0e354c0f-cce2-434f-df90-dc9556cd2926"
      },
      "source": [
        "fdist.most_common(5)"
      ],
      "execution_count": 5,
      "outputs": [
        {
          "output_type": "execute_result",
          "data": {
            "text/plain": [
              "[('.', 12), (',', 12), ('is', 7), ('Lucas', 6), ('to', 6)]"
            ]
          },
          "metadata": {
            "tags": []
          },
          "execution_count": 5
        }
      ]
    },
    {
      "cell_type": "code",
      "metadata": {
        "colab": {
          "base_uri": "https://localhost:8080/",
          "height": 308
        },
        "id": "o8ZnBeNiT5mj",
        "outputId": "8b8aa0c6-0732-4b29-ef0a-961ed82ed2c9"
      },
      "source": [
        "import matplotlib.pyplot as plt\r\n",
        "fdist.plot(30,cumulative=False)\r\n",
        "plt.show()"
      ],
      "execution_count": 6,
      "outputs": [
        {
          "output_type": "display_data",
          "data": {
            "image/png": "[encoded data removed]",
            "text/plain": [
              "<Figure size 432x288 with 1 Axes>"
            ]
          },
          "metadata": {
            "tags": [],
            "needs_background": "light"
          }
        }
      ]
    },
    {
      "cell_type": "markdown",
      "metadata": {
        "id": "fOjyuXN7VMcS"
      },
      "source": [
        "# Removing stopwords"
      ]
    },
    {
      "cell_type": "code",
      "metadata": {
        "colab": {
          "base_uri": "https://localhost:8080/"
        },
        "id": "DG2XDxqRU4fT",
        "outputId": "6a35fc40-c4fe-4047-d653-ecf6a43cc3ef"
      },
      "source": [
        "# from nltk.corpus import stopwords\r\n",
        "# stop_words=set(stopwords.words(\"english\"))\r\n",
        "# print(stop_words)"
      ],
      "execution_count": null,
      "outputs": [
        {
          "output_type": "stream",
          "text": [
            "{\"hadn't\", 'an', \"hasn't\", 'a', 'm', \"you'd\", 'himself', 'which', 'theirs', 'been', 'where', 'than', \"wasn't\", 'weren', 'won', 'here', 'to', 'my', 'itself', 'if', 'over', 'each', \"you've\", 'mustn', 'their', 'as', 'once', 'i', 'her', 'they', 'own', 'shan', 'yourself', 'ain', 'that', 'doesn', \"that'll\", 'he', 'have', 'not', 'during', 'isn', 'some', 'while', 'y', \"isn't\", 'off', 'shouldn', 'having', 'all', 'other', 'because', 'me', 'whom', 'out', 'there', 'only', \"mightn't\", 'll', 'just', 'below', 'between', 'what', 'down', 'then', 'is', 'so', 'yours', 'who', 'had', 'in', 'aren', 'until', \"shan't\", \"she's\", 'them', 'needn', 'ours', 'further', 're', \"needn't\", 'did', 'above', 'his', 'haven', 'do', 'such', 'was', 'when', 'or', 'our', 'o', 'with', \"aren't\", 'through', 'those', 'wasn', 'you', 'up', 'nor', \"wouldn't\", 'how', 'before', 'few', 'into', 'be', 'it', 'why', 'any', 'herself', \"doesn't\", 'again', \"mustn't\", 'now', 'the', 'didn', \"couldn't\", \"you're\", 'at', 'very', \"weren't\", 've', 'does', 'after', 'for', 'should', 'don', \"didn't\", 'mightn', 'against', 'him', 'ma', 'wouldn', 'will', \"shouldn't\", 'were', 'ourselves', 'too', 'hadn', 'this', 'she', \"it's\", 'about', 'myself', 'but', 'by', 'doing', \"don't\", 'we', 'from', 'd', 'under', \"won't\", 'are', 'and', \"should've\", 'no', \"you'll\", 'most', 'these', 'can', 'has', 's', 't', 'couldn', 'on', 'being', 'your', 'hasn', 'am', 'both', 'hers', 'its', 'themselves', 'same', 'more', \"haven't\", 'yourselves', 'of'}\n"
          ],
          "name": "stdout"
        }
      ]
    },
    {
      "cell_type": "code",
      "metadata": {
        "colab": {
          "base_uri": "https://localhost:8080/"
        },
        "id": "F_fPamczVRcL",
        "outputId": "b2ab22d8-bb77-4409-fbda-bc03125799cb"
      },
      "source": [
        "# filtered_sent=[]\r\n",
        "# for w in tokenized_word:\r\n",
        "#     if w not in stop_words:\r\n",
        "#         filtered_sent.append(w)\r\n",
        "# print(\"Tokenized Sentence:\",tokenized_word)\r\n",
        "# print(\"Filterd Sentence:\",filtered_sent)"
      ],
      "execution_count": null,
      "outputs": [
        {
          "output_type": "stream",
          "text": [
            "Tokenized Sentence: ['Lucas', 'goes', 'to', 'school', 'every', 'day', 'of', 'the', 'week', '.', 'He', 'has', 'many', 'subjects', 'to', 'go', 'to', 'each', 'school', 'day', ':', 'English', ',', 'art', ',', 'science', ',', 'mathematics', ',', 'gym', ',', 'and', 'history', '.', 'His', 'mother', 'packs', 'a', 'big', 'backpack', 'full', 'of', 'books', 'and', 'lunch', 'for', 'Lucas', '.', 'His', 'first', 'class', 'is', 'English', ',', 'and', 'he', 'likes', 'that', 'teacher', 'very', 'much', '.', 'His', 'English', 'teacher', 'says', 'that', 'he', 'is', 'a', 'good', 'pupil', ',', 'which', 'Lucas', 'knows', 'means', 'that', 'she', 'thinks', 'he', 'is', 'a', 'good', 'student', '.', 'His', 'next', 'class', 'is', 'art', '.', 'He', 'draws', 'on', 'paper', 'with', 'crayons', 'and', 'pencils', 'and', 'sometimes', 'uses', 'a', 'ruler', '.', 'Lucas', 'likes', 'art', '.', 'It', 'is', 'his', 'favorite', 'class', '.', 'His', 'third', 'class', 'is', 'science', '.', 'This', 'class', 'is', 'very', 'hard', 'for', 'Lucas', 'to', 'figure', 'out', ',', 'but', 'he', 'gets', 'to', 'work', 'with', 'his', 'classmates', 'a', 'lot', ',', 'which', 'he', 'likes', 'to', 'do', '.', 'His', 'friend', ',', 'Kyle', ',', 'works', 'with', 'Lucas', 'in', 'science', 'class', ',', 'and', 'they', 'have', 'fun', '.']\n",
            "Filterd Sentence: ['Lucas', 'goes', 'school', 'every', 'day', 'week', '.', 'He', 'many', 'subjects', 'go', 'school', 'day', ':', 'English', ',', 'art', ',', 'science', ',', 'mathematics', ',', 'gym', ',', 'history', '.', 'His', 'mother', 'packs', 'big', 'backpack', 'full', 'books', 'lunch', 'Lucas', '.', 'His', 'first', 'class', 'English', ',', 'likes', 'teacher', 'much', '.', 'His', 'English', 'teacher', 'says', 'good', 'pupil', ',', 'Lucas', 'knows', 'means', 'thinks', 'good', 'student', '.', 'His', 'next', 'class', 'art', '.', 'He', 'draws', 'paper', 'crayons', 'pencils', 'sometimes', 'uses', 'ruler', '.', 'Lucas', 'likes', 'art', '.', 'It', 'favorite', 'class', '.', 'His', 'third', 'class', 'science', '.', 'This', 'class', 'hard', 'Lucas', 'figure', ',', 'gets', 'work', 'classmates', 'lot', ',', 'likes', '.', 'His', 'friend', ',', 'Kyle', ',', 'works', 'Lucas', 'science', 'class', ',', 'fun', '.']\n"
          ],
          "name": "stdout"
        }
      ]
    },
    {
      "cell_type": "markdown",
      "metadata": {
        "id": "Y33ZakjJWJWb"
      },
      "source": [
        "# Stemming\r\n"
      ]
    },
    {
      "cell_type": "code",
      "metadata": {
        "colab": {
          "base_uri": "https://localhost:8080/"
        },
        "id": "4-MZGIDvWLWz",
        "outputId": "9bb10e11-2a1a-4805-c7e9-3c4c7c2705f0"
      },
      "source": [
        "# Stemming\r\n",
        "from nltk.stem import PorterStemmer\r\n",
        "from nltk.tokenize import sent_tokenize, word_tokenize\r\n",
        "\r\n",
        "ps = PorterStemmer()\r\n",
        "\r\n",
        "stemmed_words=[]\r\n",
        "for w in tokenized_word:\r\n",
        "    stemmed_words.append(ps.stem(w))\r\n",
        "\r\n",
        "print(\"Filtered Sentence:\",tokenized_word)\r\n",
        "print(\"Stemmed Sentence:\",stemmed_words)"
      ],
      "execution_count": 8,
      "outputs": [
        {
          "output_type": "stream",
          "text": [
            "Filtered Sentence: ['Lucas', 'goes', 'to', 'school', 'every', 'day', 'of', 'the', 'week', '.', 'He', 'has', 'many', 'subjects', 'to', 'go', 'to', 'each', 'school', 'day', ':', 'English', ',', 'art', ',', 'science', ',', 'mathematics', ',', 'gym', ',', 'and', 'history', '.', 'His', 'mother', 'packs', 'a', 'big', 'backpack', 'full', 'of', 'books', 'and', 'lunch', 'for', 'Lucas', '.', 'His', 'first', 'class', 'is', 'English', ',', 'and', 'he', 'likes', 'that', 'teacher', 'very', 'much', '.', 'His', 'English', 'teacher', 'says', 'that', 'he', 'is', 'a', 'good', 'pupil', ',', 'which', 'Lucas', 'knows', 'means', 'that', 'she', 'thinks', 'he', 'is', 'a', 'good', 'student', '.', 'His', 'next', 'class', 'is', 'art', '.', 'He', 'draws', 'on', 'paper', 'with', 'crayons', 'and', 'pencils', 'and', 'sometimes', 'uses', 'a', 'ruler', '.', 'Lucas', 'likes', 'art', '.', 'It', 'is', 'his', 'favorite', 'class', '.', 'His', 'third', 'class', 'is', 'science', '.', 'This', 'class', 'is', 'very', 'hard', 'for', 'Lucas', 'to', 'figure', 'out', ',', 'but', 'he', 'gets', 'to', 'work', 'with', 'his', 'classmates', 'a', 'lot', ',', 'which', 'he', 'likes', 'to', 'do', '.', 'His', 'friend', ',', 'Kyle', ',', 'works', 'with', 'Lucas', 'in', 'science', 'class', ',', 'and', 'they', 'have', 'fun', '.']\n",
            "Stemmed Sentence: ['luca', 'goe', 'to', 'school', 'everi', 'day', 'of', 'the', 'week', '.', 'He', 'ha', 'mani', 'subject', 'to', 'go', 'to', 'each', 'school', 'day', ':', 'english', ',', 'art', ',', 'scienc', ',', 'mathemat', ',', 'gym', ',', 'and', 'histori', '.', 'hi', 'mother', 'pack', 'a', 'big', 'backpack', 'full', 'of', 'book', 'and', 'lunch', 'for', 'luca', '.', 'hi', 'first', 'class', 'is', 'english', ',', 'and', 'he', 'like', 'that', 'teacher', 'veri', 'much', '.', 'hi', 'english', 'teacher', 'say', 'that', 'he', 'is', 'a', 'good', 'pupil', ',', 'which', 'luca', 'know', 'mean', 'that', 'she', 'think', 'he', 'is', 'a', 'good', 'student', '.', 'hi', 'next', 'class', 'is', 'art', '.', 'He', 'draw', 'on', 'paper', 'with', 'crayon', 'and', 'pencil', 'and', 'sometim', 'use', 'a', 'ruler', '.', 'luca', 'like', 'art', '.', 'It', 'is', 'hi', 'favorit', 'class', '.', 'hi', 'third', 'class', 'is', 'scienc', '.', 'thi', 'class', 'is', 'veri', 'hard', 'for', 'luca', 'to', 'figur', 'out', ',', 'but', 'he', 'get', 'to', 'work', 'with', 'hi', 'classmat', 'a', 'lot', ',', 'which', 'he', 'like', 'to', 'do', '.', 'hi', 'friend', ',', 'kyle', ',', 'work', 'with', 'luca', 'in', 'scienc', 'class', ',', 'and', 'they', 'have', 'fun', '.']\n"
          ],
          "name": "stdout"
        }
      ]
    },
    {
      "cell_type": "markdown",
      "metadata": {
        "id": "pJQLy36TWdA7"
      },
      "source": [
        "# Lemmatization"
      ]
    },
    {
      "cell_type": "code",
      "metadata": {
        "colab": {
          "base_uri": "https://localhost:8080/"
        },
        "id": "LIgbEvUcWcD0",
        "outputId": "9e73b235-1970-4750-a00e-7d3f4567890a"
      },
      "source": [
        "#Lexicon Normalization\r\n",
        "#performing stemming and Lemmatization\r\n",
        "\r\n",
        "from nltk.stem.wordnet import WordNetLemmatizer\r\n",
        "lem = WordNetLemmatizer()\r\n",
        "\r\n",
        "from nltk.stem.porter import PorterStemmer\r\n",
        "stem = PorterStemmer()\r\n",
        "\r\n",
        "word = \"flying\"\r\n",
        "print(\"Lemmatized Word:\",lem.lemmatize(word,\"v\"))\r\n",
        "print(\"Stemmed Word:\",stem.stem(word))"
      ],
      "execution_count": 9,
      "outputs": [
        {
          "output_type": "stream",
          "text": [
            "Lemmatized Word: fly\n",
            "Stemmed Word: fli\n"
          ],
          "name": "stdout"
        }
      ]
    },
    {
      "cell_type": "markdown",
      "metadata": {
        "id": "QhY7FXEaW_ET"
      },
      "source": [
        "# POS Tagging\r\n",
        "\r\n",
        "* CC coordinating conjunction\r\n",
        "* CD cardinal digit\r\n",
        "* DT determiner\r\n",
        "* EX existential there (like: “there is” … think of it like “there exists”)\r\n",
        "* FW foreign word\r\n",
        "* IN preposition/subordinating conjunction\r\n",
        "* JJ adjective ‘big’\r\n",
        "* JJR adjective, comparative ‘bigger’\r\n",
        "* JJS adjective, superlative ‘biggest’\r\n",
        "* LS list marker 1)\r\n",
        "* MD modal could, will\r\n",
        "* NN noun, singular ‘desk’\r\n",
        "* NNS noun plural ‘desks’\r\n",
        "* NNP proper noun, singular ‘Harrison’\r\n",
        "* NNPS proper noun, plural ‘Americans’\r\n",
        "* PDT predeterminer ‘all the kids’\r\n",
        "* POS possessive ending parent’s\r\n",
        "* PRP personal pronoun I, he, she\r\n",
        "* PRP possessive pronoun my, his, hers\r\n",
        "* RB adverb very, silently,\r\n",
        "* RBR adverb, comparative better\r\n",
        "* RBS adverb, superlative best\r\n",
        "* RP particle give up\r\n",
        "* TO, to go ‘to’ the store.\r\n",
        "* UH interjection, errrrrrrrm\r\n",
        "* VB verb, base form take\r\n",
        "* VBD verb, past tense took\r\n",
        "* VBG verb, gerund/present participle taking\r\n",
        "* VBN verb, past participle taken\r\n",
        "* VBP verb, sing. present, non-3d take\r\n",
        "* VBZ verb, 3rd person sing. present takes\r\n",
        "* WDT wh-determiner which\r\n",
        "* WP wh-pronoun who, what\r\n",
        "* WP$ possessive wh-pronoun whose\r\n",
        "* WRB wh-abverb where, when"
      ]
    },
    {
      "cell_type": "code",
      "metadata": {
        "colab": {
          "base_uri": "https://localhost:8080/"
        },
        "id": "hip4iRCvXCR8",
        "outputId": "4950d46f-767e-41a7-dfcc-e9b2fecd1a55"
      },
      "source": [
        "sent = \"Albert Einstein was born in Ulm, Germany in 1879.\"\r\n",
        "\r\n",
        "tokens=nltk.word_tokenize(sent)\r\n",
        "print(tokens)"
      ],
      "execution_count": 10,
      "outputs": [
        {
          "output_type": "stream",
          "text": [
            "['Albert', 'Einstein', 'was', 'born', 'in', 'Ulm', ',', 'Germany', 'in', '1879', '.']\n"
          ],
          "name": "stdout"
        }
      ]
    },
    {
      "cell_type": "code",
      "metadata": {
        "colab": {
          "base_uri": "https://localhost:8080/"
        },
        "id": "1FOQmOaPXHzF",
        "outputId": "9035deec-2404-48bd-bf18-bb64ffa6506f"
      },
      "source": [
        "nltk.pos_tag(tokens)"
      ],
      "execution_count": 11,
      "outputs": [
        {
          "output_type": "execute_result",
          "data": {
            "text/plain": [
              "[('Albert', 'NNP'),\n",
              " ('Einstein', 'NNP'),\n",
              " ('was', 'VBD'),\n",
              " ('born', 'VBN'),\n",
              " ('in', 'IN'),\n",
              " ('Ulm', 'NNP'),\n",
              " (',', ','),\n",
              " ('Germany', 'NNP'),\n",
              " ('in', 'IN'),\n",
              " ('1879', 'CD'),\n",
              " ('.', '.')]"
            ]
          },
          "metadata": {
            "tags": []
          },
          "execution_count": 11
        }
      ]
    },
    {
      "cell_type": "markdown",
      "metadata": {
        "id": "7o9TB4S0Z06c"
      },
      "source": [
        "# Text Classification\r\n",
        "\r\n",
        "![NLTK3_zwbdgg.webp](data:image/webp;base64,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)\r\n"
      ]
    },
    {
      "cell_type": "markdown",
      "metadata": {
        "id": "2NsP4R3NaZh8"
      },
      "source": [
        "## Example of Sentiment Analysis using Text Classification\r\n",
        "\r\n",
        "Here, you can build a model to classify the type of cultivar. The dataset is available on Kaggle. You can download it from the following link: \r\n",
        "\r\n",
        "https://www.kaggle.com/c/sentiment-analysis-on-movie-reviews/data"
      ]
    },
    {
      "cell_type": "code",
      "metadata": {
        "colab": {
          "base_uri": "https://localhost:8080/"
        },
        "id": "o_ys21OmcE-P",
        "outputId": "ac2b0398-cd03-4668-cd01-00847b506996"
      },
      "source": [
        "from google.colab import drive\r\n",
        "drive.mount('/content/drive')"
      ],
      "execution_count": 180,
      "outputs": [
        {
          "output_type": "stream",
          "text": [
            "Drive already mounted at /content/drive; to attempt to forcibly remount, call drive.mount(\"/content/drive\", force_remount=True).\n"
          ],
          "name": "stdout"
        }
      ]
    },
    {
      "cell_type": "code",
      "metadata": {
        "id": "ywtDDVvCcQGd"
      },
      "source": [
        "path = \"/content/drive/MyDrive/Colab Notebooks/amazon_cells_labelled.txt\""
      ],
      "execution_count": 183,
      "outputs": []
    },
    {
      "cell_type": "markdown",
      "metadata": {
        "id": "36ihMPiyFiiC"
      },
      "source": [
        ""
      ]
    },
    {
      "cell_type": "code",
      "metadata": {
        "id": "hlKn1G6dZ8Ax"
      },
      "source": [
        "# Import pandas\r\n",
        "import pandas as pd\r\n",
        "\r\n",
        "data=pd.read_csv(path, header=None, names=[\"Phrase\", \"Sentiment\"], sep=\"\\t\")"
      ],
      "execution_count": 184,
      "outputs": []
    },
    {
      "cell_type": "code",
      "metadata": {
        "colab": {
          "base_uri": "https://localhost:8080/",
          "height": 669
        },
        "id": "hgyFGZk8dq5s",
        "outputId": "cb3fb0a6-e829-4b4a-e7a9-8b05e614f227"
      },
      "source": [
        "data.head(20)"
      ],
      "execution_count": 15,
      "outputs": [
        {
          "output_type": "execute_result",
          "data": {
            "text/html": [
              "<div>\n",
              "<style scoped>\n",
              "    .dataframe tbody tr th:only-of-type {\n",
              "        vertical-align: middle;\n",
              "    }\n",
              "\n",
              "    .dataframe tbody tr th {\n",
              "        vertical-align: top;\n",
              "    }\n",
              "\n",
              "    .dataframe thead th {\n",
              "        text-align: right;\n",
              "    }\n",
              "</style>\n",
              "<table border=\"1\" class=\"dataframe\">\n",
              "  <thead>\n",
              "    <tr style=\"text-align: right;\">\n",
              "      <th></th>\n",
              "      <th>Phrase</th>\n",
              "      <th>Sentiment</th>\n",
              "    </tr>\n",
              "  </thead>\n",
              "  <tbody>\n",
              "    <tr>\n",
              "      <th>0</th>\n",
              "      <td>So there is no way for me to plug it in here i...</td>\n",
              "      <td>0</td>\n",
              "    </tr>\n",
              "    <tr>\n",
              "      <th>1</th>\n",
              "      <td>Good case, Excellent value.</td>\n",
              "      <td>1</td>\n",
              "    </tr>\n",
              "    <tr>\n",
              "      <th>2</th>\n",
              "      <td>Great for the jawbone.</td>\n",
              "      <td>1</td>\n",
              "    </tr>\n",
              "    <tr>\n",
              "      <th>3</th>\n",
              "      <td>Tied to charger for conversations lasting more...</td>\n",
              "      <td>0</td>\n",
              "    </tr>\n",
              "    <tr>\n",
              "      <th>4</th>\n",
              "      <td>The mic is great.</td>\n",
              "      <td>1</td>\n",
              "    </tr>\n",
              "    <tr>\n",
              "      <th>5</th>\n",
              "      <td>I have to jiggle the plug to get it to line up...</td>\n",
              "      <td>0</td>\n",
              "    </tr>\n",
              "    <tr>\n",
              "      <th>6</th>\n",
              "      <td>If you have several dozen or several hundred c...</td>\n",
              "      <td>0</td>\n",
              "    </tr>\n",
              "    <tr>\n",
              "      <th>7</th>\n",
              "      <td>If you are Razr owner...you must have this!</td>\n",
              "      <td>1</td>\n",
              "    </tr>\n",
              "    <tr>\n",
              "      <th>8</th>\n",
              "      <td>Needless to say, I wasted my money.</td>\n",
              "      <td>0</td>\n",
              "    </tr>\n",
              "    <tr>\n",
              "      <th>9</th>\n",
              "      <td>What a waste of money and time!.</td>\n",
              "      <td>0</td>\n",
              "    </tr>\n",
              "    <tr>\n",
              "      <th>10</th>\n",
              "      <td>And the sound quality is great.</td>\n",
              "      <td>1</td>\n",
              "    </tr>\n",
              "    <tr>\n",
              "      <th>11</th>\n",
              "      <td>He was very impressed when going from the orig...</td>\n",
              "      <td>1</td>\n",
              "    </tr>\n",
              "    <tr>\n",
              "      <th>12</th>\n",
              "      <td>If the two were seperated by a mere 5+ ft I st...</td>\n",
              "      <td>0</td>\n",
              "    </tr>\n",
              "    <tr>\n",
              "      <th>13</th>\n",
              "      <td>Very good quality though</td>\n",
              "      <td>1</td>\n",
              "    </tr>\n",
              "    <tr>\n",
              "      <th>14</th>\n",
              "      <td>The design is very odd, as the ear \"clip\" is n...</td>\n",
              "      <td>0</td>\n",
              "    </tr>\n",
              "    <tr>\n",
              "      <th>15</th>\n",
              "      <td>Highly recommend for any one who has a blue to...</td>\n",
              "      <td>1</td>\n",
              "    </tr>\n",
              "    <tr>\n",
              "      <th>16</th>\n",
              "      <td>I advise EVERYONE DO NOT BE FOOLED!</td>\n",
              "      <td>0</td>\n",
              "    </tr>\n",
              "    <tr>\n",
              "      <th>17</th>\n",
              "      <td>So Far So Good!.</td>\n",
              "      <td>1</td>\n",
              "    </tr>\n",
              "    <tr>\n",
              "      <th>18</th>\n",
              "      <td>Works great!.</td>\n",
              "      <td>1</td>\n",
              "    </tr>\n",
              "    <tr>\n",
              "      <th>19</th>\n",
              "      <td>It clicks into place in a way that makes you w...</td>\n",
              "      <td>0</td>\n",
              "    </tr>\n",
              "  </tbody>\n",
              "</table>\n",
              "</div>"
            ],
            "text/plain": [
              "                                               Phrase  Sentiment\n",
              "0   So there is no way for me to plug it in here i...          0\n",
              "1                         Good case, Excellent value.          1\n",
              "2                              Great for the jawbone.          1\n",
              "3   Tied to charger for conversations lasting more...          0\n",
              "4                                   The mic is great.          1\n",
              "5   I have to jiggle the plug to get it to line up...          0\n",
              "6   If you have several dozen or several hundred c...          0\n",
              "7         If you are Razr owner...you must have this!          1\n",
              "8                 Needless to say, I wasted my money.          0\n",
              "9                    What a waste of money and time!.          0\n",
              "10                    And the sound quality is great.          1\n",
              "11  He was very impressed when going from the orig...          1\n",
              "12  If the two were seperated by a mere 5+ ft I st...          0\n",
              "13                           Very good quality though          1\n",
              "14  The design is very odd, as the ear \"clip\" is n...          0\n",
              "15  Highly recommend for any one who has a blue to...          1\n",
              "16                I advise EVERYONE DO NOT BE FOOLED!          0\n",
              "17                                   So Far So Good!.          1\n",
              "18                                      Works great!.          1\n",
              "19  It clicks into place in a way that makes you w...          0"
            ]
          },
          "metadata": {
            "tags": []
          },
          "execution_count": 15
        }
      ]
    },
    {
      "cell_type": "code",
      "metadata": {
        "colab": {
          "base_uri": "https://localhost:8080/"
        },
        "id": "tYWDhOfid1tc",
        "outputId": "ef29ae29-4258-4e97-9ca7-526e0f930c95"
      },
      "source": [
        "data.info()\r\n"
      ],
      "execution_count": 16,
      "outputs": [
        {
          "output_type": "stream",
          "text": [
            "<class 'pandas.core.frame.DataFrame'>\n",
            "RangeIndex: 1000 entries, 0 to 999\n",
            "Data columns (total 2 columns):\n",
            " #   Column     Non-Null Count  Dtype \n",
            "---  ------     --------------  ----- \n",
            " 0   Phrase     1000 non-null   object\n",
            " 1   Sentiment  1000 non-null   int64 \n",
            "dtypes: int64(1), object(1)\n",
            "memory usage: 15.8+ KB\n"
          ],
          "name": "stdout"
        }
      ]
    },
    {
      "cell_type": "code",
      "metadata": {
        "colab": {
          "base_uri": "https://localhost:8080/"
        },
        "id": "NlN27_2hd56k",
        "outputId": "9490a4a7-566b-48eb-cc9a-9b4ed359d859"
      },
      "source": [
        "data.Sentiment.value_counts()"
      ],
      "execution_count": 17,
      "outputs": [
        {
          "output_type": "execute_result",
          "data": {
            "text/plain": [
              "1    500\n",
              "0    500\n",
              "Name: Sentiment, dtype: int64"
            ]
          },
          "metadata": {
            "tags": []
          },
          "execution_count": 17
        }
      ]
    },
    {
      "cell_type": "code",
      "metadata": {
        "colab": {
          "base_uri": "https://localhost:8080/",
          "height": 279
        },
        "id": "AChEWAeseIA9",
        "outputId": "2acec283-2311-411d-b72b-c5da93ca86f2"
      },
      "source": [
        "Sentiment_count=data.groupby('Sentiment').count()\r\n",
        "plt.bar(Sentiment_count.index.values, Sentiment_count['Phrase'])\r\n",
        "plt.xlabel('Review Sentiments')\r\n",
        "plt.ylabel('Number of Review')\r\n",
        "plt.show()"
      ],
      "execution_count": 18,
      "outputs": [
        {
          "output_type": "display_data",
          "data": {
            "image/png": "[encoded data removed]",
            "text/plain": [
              "<Figure size 432x288 with 1 Axes>"
            ]
          },
          "metadata": {
            "tags": [],
            "needs_background": "light"
          }
        }
      ]
    },
    {
      "cell_type": "markdown",
      "metadata": {
        "id": "JYVqcFY-eM49"
      },
      "source": [
        "## Bag of Words - Feature generation  "
      ]
    },
    {
      "cell_type": "code",
      "metadata": {
        "id": "tFu3Yo1BeMb9"
      },
      "source": [
        "from sklearn.feature_extraction.text import CountVectorizer\r\n",
        "from nltk.tokenize import RegexpTokenizer\r\n",
        "from nltk.stem import WordNetLemmatizer \r\n",
        "class LemmaTokenizer(object):\r\n",
        "    def __init__(self):\r\n",
        "        self.wnl = WordNetLemmatizer()\r\n",
        "    def __call__(self, articles):\r\n",
        "        return [self.wnl.lemmatize(t) for t in word_tokenize(articles)]\r\n",
        "\r\n",
        "#tokenizer to remove unwanted elements from out data like symbols and numbers\r\n",
        "token = RegexpTokenizer(r'[a-zA-Z0-9]+')\r\n",
        "cv = CountVectorizer(\r\n",
        "    tokenizer=LemmaTokenizer(),\r\n",
        "    lowercase=True,\r\n",
        "    ngram_range = (1,1))\r\n",
        "text_counts= cv.fit_transform(data['Phrase'])"
      ],
      "execution_count": 39,
      "outputs": []
    },
    {
      "cell_type": "markdown",
      "metadata": {
        "id": "X6Z08xgBeiu6"
      },
      "source": [
        "### Train and test split"
      ]
    },
    {
      "cell_type": "code",
      "metadata": {
        "id": "CiAxZciNehoF"
      },
      "source": [
        "from sklearn.model_selection import train_test_split\r\n",
        "X_train, X_test, y_train, y_test = train_test_split(\r\n",
        "    text_counts, data['Sentiment'], test_size=0.3, random_state=1)"
      ],
      "execution_count": 40,
      "outputs": []
    },
    {
      "cell_type": "markdown",
      "metadata": {
        "id": "qGBh6mFYewFV"
      },
      "source": [
        "### Model Building and Evaluation"
      ]
    },
    {
      "cell_type": "code",
      "metadata": {
        "colab": {
          "base_uri": "https://localhost:8080/"
        },
        "id": "kb8GCzDMezQk",
        "outputId": "a202e606-05b4-4004-a1e2-1dad4a63f5e4"
      },
      "source": [
        "from sklearn.naive_bayes import MultinomialNB\r\n",
        "#Import scikit-learn metrics module for accuracy calculation\r\n",
        "from sklearn import metrics\r\n",
        "# Model Generation Using Multinomial Naive Bayes\r\n",
        "clf = MultinomialNB().fit(X_train, y_train)\r\n",
        "predicted= clf.predict(X_test)\r\n",
        "print(\"MultinomialNB Accuracy:\",metrics.accuracy_score(y_test, predicted))"
      ],
      "execution_count": 175,
      "outputs": [
        {
          "output_type": "stream",
          "text": [
            "MultinomialNB Accuracy: 0.8166666666666667\n"
          ],
          "name": "stdout"
        }
      ]
    },
    {
      "cell_type": "markdown",
      "metadata": {
        "id": "TDGNKV76dHVH"
      },
      "source": [
        "## Feature Generation using TF-IDF"
      ]
    },
    {
      "cell_type": "code",
      "metadata": {
        "id": "Gr6Xd-4RfIh0",
        "colab": {
          "base_uri": "https://localhost:8080/"
        },
        "outputId": "4e7f0798-2ad5-4858-ecce-6a6a04bee794"
      },
      "source": [
        "from sklearn.feature_extraction.text import TfidfVectorizer\r\n",
        "from sklearn.feature_extraction.text import TfidfTransformer\r\n",
        "from sklearn.pipeline import Pipeline\r\n",
        "from nltk.corpus import words\r\n",
        "import re\r\n",
        "from sklearn.naive_bayes import MultinomialNB\r\n",
        "from sklearn import metrics\r\n",
        "from sklearn.neighbors import KNeighborsClassifier\r\n",
        "from sklearn.model_selection import train_test_split, cross_val_score\r\n",
        "from sklearn.metrics import f1_score\r\n",
        "from nltk.corpus import stopwords\r\n",
        "from nltk.stem import PorterStemmer\r\n",
        "from nltk.tokenize import sent_tokenize, word_tokenize\r\n",
        "from nltk.stem.wordnet import WordNetLemmatizer\r\n",
        "\r\n",
        "\r\n",
        "\r\n",
        "def prep(phrase):\r\n",
        "    phrase = re.sub(\"[^a-zA-Z]\", \" \", phrase)\r\n",
        "    \r\n",
        "    phrase = phrase.lower()\r\n",
        "    # phrase.strip(['movi', 'film', 'phone', 'one', 'work', 'time', 'food'])\r\n",
        "    token = nltk.word_tokenize(phrase)\r\n",
        "\r\n",
        "    # token.drop(['movi', 'film', 'phone', 'one', 'work', 'time', 'food'])\r\n",
        "\r\n",
        "    stop_words=set(stopwords.words(\"english\"))\r\n",
        "    features = ['movi', 'film', 'phone', 'one', 'work', 'time', 'food']\r\n",
        "\r\n",
        "    filtered_sent=[]\r\n",
        "    for w in token:\r\n",
        "      if w not in stop_words and w not in features:\r\n",
        "         filtered_sent.append(w)\r\n",
        "\r\n",
        "    # ps = PorterStemmer()\r\n",
        "\r\n",
        "    # stemmed_words=[]\r\n",
        "    # for w in filtered_sent:\r\n",
        "    #     stemmed_words.append(ps.stem(w))\r\n",
        "    # # print(stemmed_words);\r\n",
        "    # lemmed_words = [];\r\n",
        "    # lem = WordNetLemmatizer()\r\n",
        "\r\n",
        "    # for w in stemmed_words:\r\n",
        "    #     lemmed_words.append(lem.lemmatize(w))\r\n",
        "    \r\n",
        "\r\n",
        "\r\n",
        "    phrase = filtered_sent\r\n",
        "    return \" \".join(phrase)\r\n",
        "\r\n",
        "\r\n",
        "data['Clean'] = data['Phrase'].apply(prep)\r\n",
        "\r\n",
        "y = data['Sentiment']\r\n",
        "\r\n",
        "tv = TfidfVectorizer(\r\n",
        "                    ngram_range = (1,3),\r\n",
        "                    sublinear_tf = True,\r\n",
        "                    lowercase = True,\r\n",
        "                    max_features = 100000)\r\n",
        "\r\n",
        "train_tv = tv.fit_transform(data['Clean'])\r\n",
        "\r\n",
        "X_train, X_test, y_train, y_test = train_test_split(train_tv, y, random_state = 123, test_size = 0.3)\r\n",
        "\r\n",
        "dataFreq = \" \".join(data['Clean'])\r\n",
        "token = nltk.word_tokenize(dataFreq)\r\n",
        "fdist = FreqDist(token)\r\n",
        "print(fdist.most_common(10))\r\n",
        "# print(np.array(dataFreq.drop(['movi', 'film', 'phone', 'one', 'work', 'time', 'food'])))\r\n",
        "\r\n",
        "clf = MultinomialNB().fit(X_train, y_train)\r\n",
        "predicted= clf.predict(X_test)\r\n",
        "print(\"MultinomialNB Accuracy:\",metrics.accuracy_score(y_test, predicted))\r\n",
        "\r\n",
        "clf = KNeighborsClassifier(n_neighbors = 1)\r\n",
        "scores = cross_val_score(clf, X_train, y_train.ravel(), cv=10, scoring = 'f1')\r\n",
        "print (\"mean accuracy of validation: \", scores.mean())\r\n",
        "clf = clf.fit(X_train, y_train.ravel())\r\n",
        "Y_pred = clf.predict(X_test)\r\n",
        "f1 = f1_score(y_test, Y_pred)\r\n",
        "print ('KNeighbors accuracy: ', f1)"
      ],
      "execution_count": 196,
      "outputs": [
        {
          "output_type": "stream",
          "text": [
            "[('good', 231), ('great', 210), ('movie', 182), ('like', 125), ('place', 114), ('service', 108), ('bad', 103), ('really', 103), ('well', 92), ('would', 87)]\n",
            "MultinomialNB Accuracy: 0.7951515151515152\n",
            "mean accuracy of validation:  0.1714595268669664\n",
            "KNeighbors accuracy:  0.17660044150110374\n"
          ],
          "name": "stdout"
        }
      ]
    },
    {
      "cell_type": "markdown",
      "metadata": {
        "id": "KYpe2iFlfZzs"
      },
      "source": [
        "## Train-test split (for TF-IDF)\r\n"
      ]
    },
    {
      "cell_type": "code",
      "metadata": {
        "id": "DrWpG_KPfZMs"
      },
      "source": [
        "from sklearn.model_selection import train_test_split\r\n",
        "X_train, X_test, y_train, y_test = train_test_split(\r\n",
        "    text_tf, data['Sentiment'], test_size=0.3, random_state=123)"
      ],
      "execution_count": 104,
      "outputs": []
    },
    {
      "cell_type": "markdown",
      "metadata": {
        "id": "ZgrAHG1_flB1"
      },
      "source": [
        "### Model building and evaluation (for TF-IDF)"
      ]
    },
    {
      "cell_type": "code",
      "metadata": {
        "colab": {
          "base_uri": "https://localhost:8080/"
        },
        "id": "dllZTeZTfpDP",
        "outputId": "02b7f970-06e8-4f85-d3ea-a34aeb0f93f3"
      },
      "source": [
        "from sklearn.naive_bayes import MultinomialNB\r\n",
        "from sklearn import metrics\r\n",
        "# Model Generation Using Multinomial Naive Bayes\r\n",
        "clf = MultinomialNB().fit(X_train, y_train)\r\n",
        "predicted= clf.predict(X_test)\r\n",
        "print(\"MultinomialNB Accuracy:\",metrics.accuracy_score(y_test, predicted))"
      ],
      "execution_count": 105,
      "outputs": [
        {
          "output_type": "stream",
          "text": [
            "MultinomialNB Accuracy: 0.84\n"
          ],
          "name": "stdout"
        }
      ]
    },
    {
      "cell_type": "code",
      "metadata": {
        "colab": {
          "base_uri": "https://localhost:8080/"
        },
        "id": "fgEZZkU_gWmt",
        "outputId": "e6dccedf-3726-4c11-ad65-b69ad609f8fd"
      },
      "source": [
        "print(y_test)\r\n",
        "print(predicted)"
      ],
      "execution_count": 54,
      "outputs": [
        {
          "output_type": "stream",
          "text": [
            "521    1\n",
            "737    1\n",
            "740    1\n",
            "660    0\n",
            "411    1\n",
            "      ..\n",
            "468    0\n",
            "935    0\n",
            "428    1\n",
            "7      1\n",
            "155    1\n",
            "Name: Sentiment, Length: 300, dtype: int64\n",
            "[1 1 0 0 0 0 0 1 1 0 0 0 0 1 0 0 1 1 0 1 1 0 0 1 1 0 1 1 1 0 1 1 0 0 1 0 0\n",
            " 1 1 0 0 0 0 1 0 1 0 0 0 1 1 0 0 1 1 0 0 1 1 1 0 1 0 0 1 0 0 0 0 0 1 1 1 0\n",
            " 0 0 1 0 0 0 1 0 1 1 1 1 0 1 1 0 0 1 0 0 0 1 1 0 0 1 0 0 0 1 1 1 1 0 0 1 0\n",
            " 0 0 0 0 1 1 0 1 1 1 0 0 1 0 1 1 1 1 1 0 0 0 0 1 1 1 0 1 0 0 0 1 1 0 1 1 1\n",
            " 0 0 1 0 1 0 0 0 1 1 1 1 0 0 1 1 1 0 0 1 0 0 1 0 0 1 0 0 1 0 1 0 1 1 0 1 0\n",
            " 0 0 0 0 1 1 1 1 0 0 1 0 1 0 0 0 1 0 1 1 1 1 1 1 1 1 1 0 1 0 0 1 1 0 0 0 0\n",
            " 0 1 0 0 0 0 0 1 1 0 0 0 1 0 1 0 1 0 1 1 1 0 1 0 0 1 1 0 0 1 1 0 0 0 0 1 1\n",
            " 0 1 0 1 1 1 1 1 1 1 0 1 0 1 1 1 0 0 1 0 0 0 1 0 1 0 1 1 1 1 1 1 1 0 0 0 1\n",
            " 1 1 1 1]\n"
          ],
          "name": "stdout"
        }
      ]
    },
    {
      "cell_type": "code",
      "metadata": {
        "colab": {
          "base_uri": "https://localhost:8080/"
        },
        "id": "A_cUJpYTghOU",
        "outputId": "bfa0abb9-95ab-439a-f434-a2885de1f119"
      },
      "source": [
        "print(X_test)"
      ],
      "execution_count": 35,
      "outputs": [
        {
          "output_type": "stream",
          "text": [
            "  (0, 209)\t0.5197896173125038\n",
            "  (0, 76)\t0.4698574802341729\n",
            "  (0, 1493)\t0.4295445235951274\n",
            "  (0, 48)\t0.5197896173125038\n",
            "  (0, 1604)\t0.14295704862569783\n",
            "  (0, 854)\t0.18419077130491765\n",
            "  (1, 1667)\t0.4502180863103247\n",
            "  (1, 649)\t0.4502180863103247\n",
            "  (1, 132)\t0.4502180863103247\n",
            "  (1, 531)\t0.4502180863103247\n",
            "  (1, 172)\t0.29782775835522607\n",
            "  (1, 1096)\t0.19795176226950448\n",
            "  (1, 1604)\t0.24764576556802817\n",
            "  (2, 1444)\t0.4272104863734232\n",
            "  (2, 544)\t0.3573831985438357\n",
            "  (2, 959)\t0.3953355254386895\n",
            "  (2, 1682)\t0.4148457041914357\n",
            "  (2, 926)\t0.3034722133286927\n",
            "  (2, 475)\t0.34421582069724166\n",
            "  (2, 1104)\t0.2327137638393366\n",
            "  (2, 1081)\t0.216358504727158\n",
            "  (2, 91)\t0.15618289560833803\n",
            "  (2, 857)\t0.15950424120270032\n",
            "  (3, 1316)\t0.26750688367159026\n",
            "  (3, 1054)\t0.26750688367159026\n",
            "  :\t:\n",
            "  (296, 721)\t0.5843689156455778\n",
            "  (296, 854)\t0.4495386693537962\n",
            "  (297, 727)\t0.4663926814415932\n",
            "  (297, 1579)\t0.4663926814415932\n",
            "  (297, 1176)\t0.385418283639241\n",
            "  (297, 632)\t0.35057935707292964\n",
            "  (297, 970)\t0.3361561061104207\n",
            "  (297, 1778)\t0.2696049592705775\n",
            "  (297, 1737)\t0.21353263128066502\n",
            "  (297, 91)\t0.14885514162986235\n",
            "  (297, 1052)\t0.2001519294847116\n",
            "  (298, 773)\t0.6545792101988382\n",
            "  (298, 1778)\t0.40091754822018205\n",
            "  (298, 154)\t0.3921734970039159\n",
            "  (298, 1708)\t0.44338575419736864\n",
            "  (298, 854)\t0.2457645180393891\n",
            "  (299, 1546)\t0.468153336449251\n",
            "  (299, 1320)\t0.4960264453357812\n",
            "  (299, 860)\t0.3575148689650932\n",
            "  (299, 438)\t0.3622576835276651\n",
            "  (299, 1109)\t0.32520515334947475\n",
            "  (299, 1185)\t0.19479040038525516\n",
            "  (299, 119)\t0.2954485418491491\n",
            "  (299, 1604)\t0.13642149497354633\n",
            "  (299, 857)\t0.16167978004103298\n"
          ],
          "name": "stdout"
        }
      ]
    }
  ]
}